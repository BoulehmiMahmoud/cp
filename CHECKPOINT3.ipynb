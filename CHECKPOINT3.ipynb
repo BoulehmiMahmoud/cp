{
 "cells": [
  {
   "cell_type": "code",
   "execution_count": 18,
   "id": "317aed7b",
   "metadata": {},
   "outputs": [
    {
     "name": "stdout",
     "output_type": "stream",
     "text": [
      "saisir langueur de la chaine: 3\n",
      "numbr2\n",
      "numbr3\n",
      "numbr6\n",
      "36\n"
     ]
    }
   ],
   "source": [
    "#1\n",
    "x=[]\n",
    "n=int(input(\"saisir langueur de la chaine: \"))\n",
    "for i in range(0,n):\n",
    "    v=int(input(\"numbr\"))\n",
    "    x.append(v)\n",
    "s=1\n",
    "for f in x:\n",
    "    s=s*f\n",
    "print (s)"
   ]
  },
  {
   "cell_type": "code",
   "execution_count": 1,
   "id": "65f64358",
   "metadata": {},
   "outputs": [
    {
     "name": "stdout",
     "output_type": "stream",
     "text": [
      "start or quit: start\n",
      "length of the list: 2\n",
      "numbr: 12\n",
      "numbr: 45\n",
      "numbr: 78\n",
      "numbr: 98\n",
      "numbr: 65\n",
      "numbr: 32\n",
      "numbr: 14\n",
      "numbr: 25\n",
      "numbr: 36\n",
      "numbr: 74\n",
      "([12, 45], [14, 25], [36, 74], [65, 32], [78, 98])\n"
     ]
    }
   ],
   "source": [
    "#2\n",
    "x1=[] ; x2=[] ; x3=[] ; x4=[] ; x5=[]\n",
    "\n",
    "s=input(\"start or quit: \")\n",
    "if s==\"quit\":\n",
    "    print(\"quit program\")\n",
    "elif s==\"start\":\n",
    "    n=int(input(\"length of the list: \"))\n",
    "    for i in range(0,n):\n",
    "        a=int(input(\"numbr: \"))\n",
    "        x1.append(a)\n",
    "    for j in range(0,n):\n",
    "        b=int(input(\"numbr: \"))\n",
    "        x2.append(b)\n",
    "    for k in range(0,n):\n",
    "        c=int(input(\"numbr: \"))\n",
    "        x3.append(c)\n",
    "    for l in range(0,n):\n",
    "        d=int(input(\"numbr: \"))\n",
    "        x4.append(d)\n",
    "    for m in range(0,n):\n",
    "        e=int(input(\"numbr: \"))\n",
    "        x5.append(e)\n",
    "    y1=sum(x1); y2=sum(x2); y3=sum(x3); y4=sum(x4); y5=sum(x5); z=[x1,x2,x3,x4,x5]\n",
    "    z.sort()\n",
    "    def convert(list):\n",
    "        return tuple(list)\n",
    "\n",
    "    print(convert(z))\n",
    "else:\n",
    "    print(\"error\")"
   ]
  },
  {
   "cell_type": "code",
   "execution_count": 4,
   "id": "3681d195",
   "metadata": {},
   "outputs": [
    {
     "name": "stdout",
     "output_type": "stream",
     "text": [
      "len of mydict1: 1\n",
      "key: A\n",
      "value: 1\n",
      "{'A': 1}\n",
      "len of mydict2: 2\n",
      "key: A\n",
      "value: 2\n",
      "{'A': 2}\n",
      "key: B\n",
      "value: 3\n",
      "{'A': 2, 'B': 3}\n",
      "Counter({'A': 3, 'B': 3})\n"
     ]
    }
   ],
   "source": [
    "#3\n",
    "mydict1={}\n",
    "mydict2={}\n",
    "\n",
    "n=int(input(\"len of mydict1: \"))\n",
    "for i in range(0,n):\n",
    "        a=input(\"key: \")\n",
    "        b=int(input(\"value: \"))\n",
    "        mydict1[a]=b\n",
    "        print(mydict1)\n",
    "m=int(input(\"len of mydict2: \"))\n",
    "for k in range(0,m):\n",
    "        c=input(\"key: \")\n",
    "        d=int(input(\"value: \"))\n",
    "        mydict2[c]=d\n",
    "        print(mydict2)\n",
    "from collections import Counter\n",
    "d=Counter(mydict1)+Counter(mydict2)\n",
    "print(d)"
   ]
  },
  {
   "cell_type": "code",
   "execution_count": 1,
   "id": "f971a356",
   "metadata": {},
   "outputs": [
    {
     "name": "stdout",
     "output_type": "stream",
     "text": [
      "length of d: 5\n",
      "key: 1\n",
      "{1: 1}\n",
      "key: 2\n",
      "{1: 1, 2: 4}\n",
      "key: 3\n",
      "{1: 1, 2: 4, 3: 9}\n",
      "key: 4\n",
      "{1: 1, 2: 4, 3: 9, 4: 16}\n",
      "key: 5\n",
      "{1: 1, 2: 4, 3: 9, 4: 16, 5: 25}\n"
     ]
    }
   ],
   "source": [
    "#4\n",
    "D={}\n",
    "n=int(input(\"length of d: \"))\n",
    "for i in range(0,n):\n",
    "        a=int(input(\"key: \"))\n",
    "        b=a**2\n",
    "        D[a]=b\n",
    "print(D)"
   ]
  },
  {
   "cell_type": "code",
   "execution_count": 13,
   "id": "e21fd392",
   "metadata": {},
   "outputs": [
    {
     "name": "stdout",
     "output_type": "stream",
     "text": [
      "[('item3', '24.5'), ('item2', '15.10'), ('item1', '12.20')]\n"
     ]
    }
   ],
   "source": [
    "from operator import itemgetter\n",
    "l= [('item1', '12.20'), ('item2', '15.10'), ('item3', '24.5')]\n",
    "print(sorted(l,key=itemgetter(1),reverse=True))"
   ]
  }
 ],
 "metadata": {
  "kernelspec": {
   "display_name": "Python 3",
   "language": "python",
   "name": "python3"
  },
  "language_info": {
   "codemirror_mode": {
    "name": "ipython",
    "version": 3
   },
   "file_extension": ".py",
   "mimetype": "text/x-python",
   "name": "python",
   "nbconvert_exporter": "python",
   "pygments_lexer": "ipython3",
   "version": "3.8.8"
  }
 },
 "nbformat": 4,
 "nbformat_minor": 5
}
